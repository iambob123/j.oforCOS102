{
 "cells": [
  {
   "cell_type": "code",
   "execution_count": null,
   "id": "c73ae840-9441-4925-b7eb-1e490c8a6a83",
   "metadata": {},
   "outputs": [],
   "source": [
    "def calculate_tax_revenue(years_of_experience, age):\n",
    "    if years_of_experience > 25 and age >= 55:\n",
    "        return 5600000\n",
    "    elif years_of_experience > 20 and age >= 45:\n",
    "        return 4480000\n",
    "    elif years_of_experience > 10 and age >= 35:\n",
    "        return 1500000\n",
    "    else:\n",
    "        return 550000\n",
    "\n",
    "def main():\n",
    "    years_of_experience = int(input(\"Enter the years of experience: \"))\n",
    "    age = int(input(\"Enter the age: \"))\n",
    "\n",
    "    tax_revenue = calculate_tax_revenue(years_of_experience, age)\n",
    "    print(f\"The annual tax revenue (ATR) for this staff is N{tax_revenue}\")\n",
    "\n",
    "if __name__ == \"__main__\":\n",
    "    main()\n"
   ]
  },
  {
   "cell_type": "code",
   "execution_count": null,
   "id": "f5aba22a-c74b-4aa6-898c-ec07afbedfba",
   "metadata": {},
   "outputs": [],
   "source": []
  }
 ],
 "metadata": {
  "kernelspec": {
   "display_name": "Python 3 (ipykernel)",
   "language": "python",
   "name": "python3"
  },
  "language_info": {
   "codemirror_mode": {
    "name": "ipython",
    "version": 3
   },
   "file_extension": ".py",
   "mimetype": "text/x-python",
   "name": "python",
   "nbconvert_exporter": "python",
   "pygments_lexer": "ipython3",
   "version": "3.11.7"
  }
 },
 "nbformat": 4,
 "nbformat_minor": 5
}
