{
 "cells": [
  {
   "cell_type": "code",
   "execution_count": 1,
   "id": "19d6f17e-69cf-471b-a4f3-455f15f4fdc1",
   "metadata": {},
   "outputs": [
    {
     "name": "stdout",
     "output_type": "stream",
     "text": [
      "Iteration 1 of outer loop\n",
      "1\n",
      "Out of outer loop\n",
      "2\n",
      "Out of outer loop\n",
      "Iteration 2 of outer loop\n",
      "1\n",
      "Out of outer loop\n",
      "2\n",
      "Out of outer loop\n",
      "Iteration 3 of outer loop\n",
      "1\n",
      "Out of outer loop\n",
      "2\n",
      "Out of outer loop\n"
     ]
    }
   ],
   "source": [
    "for var1 in range(3):\n",
    "    print(\"Iteration \" + str(var1 + 1) + \" of outer loop\")\n",
    "    for var2 in range(2): #nested loop\n",
    "        print(var2 + 1)\n",
    "        print(\"Out of outer loop\")"
   ]
  },
  {
   "cell_type": "code",
   "execution_count": null,
   "id": "dba1d034-accc-4a7c-bb8c-b0ab36fc67e3",
   "metadata": {},
   "outputs": [],
   "source": []
  }
 ],
 "metadata": {
  "kernelspec": {
   "display_name": "Python 3 (ipykernel)",
   "language": "python",
   "name": "python3"
  },
  "language_info": {
   "codemirror_mode": {
    "name": "ipython",
    "version": 3
   },
   "file_extension": ".py",
   "mimetype": "text/x-python",
   "name": "python",
   "nbconvert_exporter": "python",
   "pygments_lexer": "ipython3",
   "version": "3.11.7"
  }
 },
 "nbformat": 4,
 "nbformat_minor": 5
}
