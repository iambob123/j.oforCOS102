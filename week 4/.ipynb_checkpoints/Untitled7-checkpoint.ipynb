{
 "cells": [
  {
   "cell_type": "code",
   "execution_count": 1,
   "id": "db85ac1c-e049-4731-99b7-c126dafa1eab",
   "metadata": {},
   "outputs": [
    {
     "name": "stdout",
     "output_type": "stream",
     "text": [
      "Welcome to the coupe de escriva 2023: FOOTBALL PICKS \n",
      "\n",
      "Madiba:  Chubby Obiora-Okafo\n",
      "Blue-Jays:  Oladimeji Abaniwondea/Jeffery Awagu\n",
      "Cirok:  Timileyin Pearse/Izuako Jeremy\n",
      "Tsk Walkers:  Ayomide Ojituku\n",
      "\n",
      "\n"
     ]
    },
    {
     "ename": "NameError",
     "evalue": "name 'goalkeepers' is not defined",
     "output_type": "error",
     "traceback": [
      "\u001b[1;31m---------------------------------------------------------------------------\u001b[0m",
      "\u001b[1;31mNameError\u001b[0m                                 Traceback (most recent call last)",
      "Cell \u001b[1;32mIn[1], line 11\u001b[0m\n\u001b[0;32m      9\u001b[0m     \u001b[38;5;28mprint\u001b[39m(pick, captain[pick])\n\u001b[0;32m     10\u001b[0m \u001b[38;5;28mprint\u001b[39m(\u001b[38;5;124m\"\u001b[39m\u001b[38;5;130;01m\\n\u001b[39;00m\u001b[38;5;124m\"\u001b[39m)\n\u001b[1;32m---> 11\u001b[0m \u001b[38;5;28;01mfor\u001b[39;00m pick \u001b[38;5;129;01min\u001b[39;00m goalkeepers:\n\u001b[0;32m     12\u001b[0m     \u001b[38;5;28mprint\u001b[39m(pick, goalkeepres[pick])\n",
      "\u001b[1;31mNameError\u001b[0m: name 'goalkeepers' is not defined"
     ]
    }
   ],
   "source": [
    "# coupe de escriva 2023: Football picks\n",
    "print(\"Welcome to the coupe de escriva 2023: FOOTBALL PICKS \\n\")\n",
    "\n",
    "captain = {'Madiba: ': 'Chubby Obiora-Okafo',\n",
    "           'Blue-Jays: ': 'Oladimeji Abaniwondea/Jeffery Awagu',\n",
    "           'Cirok: ': 'Timileyin Pearse/Izuako Jeremy' ,\n",
    "           'Tsk Walkers: ': 'Ayomide Ojituku'}\n",
    "for pick in captain:\n",
    "    print(pick, captain[pick])\n",
    "print(\"\\n\")\n",
    "for pick in goalkeepers:\n",
    "    print(pick, goalkeepres[pick])"
   ]
  },
  {
   "cell_type": "code",
   "execution_count": null,
   "id": "8a08467a-5764-462b-bc9f-127a800a5761",
   "metadata": {},
   "outputs": [],
   "source": []
  }
 ],
 "metadata": {
  "kernelspec": {
   "display_name": "Python 3 (ipykernel)",
   "language": "python",
   "name": "python3"
  },
  "language_info": {
   "codemirror_mode": {
    "name": "ipython",
    "version": 3
   },
   "file_extension": ".py",
   "mimetype": "text/x-python",
   "name": "python",
   "nbconvert_exporter": "python",
   "pygments_lexer": "ipython3",
   "version": "3.11.7"
  }
 },
 "nbformat": 4,
 "nbformat_minor": 5
}
