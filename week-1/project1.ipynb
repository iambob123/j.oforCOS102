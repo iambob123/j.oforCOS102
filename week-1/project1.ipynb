{
 "cells": [
  {
   "cell_type": "code",
   "execution_count": 7,
   "id": "de82f2ef-cdee-44c5-948b-5993f63cdd37",
   "metadata": {},
   "outputs": [
    {
     "name": "stdout",
     "output_type": "stream",
     "text": [
      "The simple interest is  16500.0\n"
     ]
    }
   ],
   "source": [
    "# Python program to find the simple interest\n",
    "P = 15000\n",
    "R = 5\n",
    "T = 2\n",
    "A = P*(1 + ((R/100)*T))\n",
    "print(\"The simple interest is \",(A))"
   ]
  },
  {
   "cell_type": "code",
   "execution_count": 10,
   "id": "7f8d25bf-80ec-4b66-8334-68d328402b86",
   "metadata": {},
   "outputs": [
    {
     "name": "stdout",
     "output_type": "stream",
     "text": [
      "Compound Interest is: 16537.5\n"
     ]
    }
   ],
   "source": [
    "P = 15000  # Principal amount\n",
    "R = 5      # Annual interest rate\n",
    "t = 2      # Time in years\n",
    "n = 1      # Number of times interest is compounded per time period\n",
    "\n",
    "# Calculate the compound interest\n",
    "A = P * ((1 + (R / (n * 100))) ** (n * t))\n",
    "\n",
    "print(\"Compound Interest is:\", A)\n"
   ]
  },
  {
   "cell_type": "code",
   "execution_count": 11,
   "id": "f4613ee1-8a61-4061-94ce-bfb5ab9d0653",
   "metadata": {},
   "outputs": [
    {
     "name": "stdin",
     "output_type": "stream",
     "text": [
      "Enter the principal amount:  15000\n",
      "Enter the annual interest rate (in decimal form):  5.0\n",
      "Enter the number of periods:  2\n"
     ]
    },
    {
     "name": "stdout",
     "output_type": "stream",
     "text": [
      "The annuity is: 77142.86\n"
     ]
    }
   ],
   "source": [
    "# python program to find annuity plan\n",
    "def calculate_annuity(principal, interest_rate, periods):\n",
    "    return principal * (interest_rate / (1 - (1 + interest_rate) ** -periods))\n",
    "\n",
    "principal = float(input(\"Enter the principal amount: \"))\n",
    "interest_rate = float(input(\"Enter the annual interest rate (in decimal form): \"))\n",
    "periods = int(input(\"Enter the number of periods: \"))\n",
    "\n",
    "annuity = calculate_annuity(principal, interest_rate, periods)\n",
    "print(f\"The annuity is: {annuity:.2f}\")\n"
   ]
  },
  {
   "cell_type": "code",
   "execution_count": null,
   "id": "cbeaafe5-5eb3-403f-a9fe-efa039b0c8a8",
   "metadata": {},
   "outputs": [],
   "source": []
  }
 ],
 "metadata": {
  "kernelspec": {
   "display_name": "Python 3 (ipykernel)",
   "language": "python",
   "name": "python3"
  },
  "language_info": {
   "codemirror_mode": {
    "name": "ipython",
    "version": 3
   },
   "file_extension": ".py",
   "mimetype": "text/x-python",
   "name": "python",
   "nbconvert_exporter": "python",
   "pygments_lexer": "ipython3",
   "version": "3.11.7"
  }
 },
 "nbformat": 4,
 "nbformat_minor": 5
}
