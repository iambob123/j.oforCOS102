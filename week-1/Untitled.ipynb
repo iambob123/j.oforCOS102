{
 "cells": [
  {
   "cell_type": "code",
   "execution_count": 1,
   "id": "d5a7765b-6029-4c09-9afd-c2e43d36b159",
   "metadata": {},
   "outputs": [
    {
     "name": "stdout",
     "output_type": "stream",
     "text": [
      "Hello Jay\n"
     ]
    }
   ],
   "source": [
    "print(\"Hello Jay\")"
   ]
  },
  {
   "cell_type": "code",
   "execution_count": null,
   "id": "b20b788d-e69f-4b65-9327-dcdb82a0f5df",
   "metadata": {},
   "outputs": [],
   "source": [
    "person = input(\"Whats your name\")\n",
    "print('Hello,', person)"
   ]
  },
  {
   "cell_type": "code",
   "execution_count": null,
   "id": "e4acb235-d07b-45c9-889e-7fd789dd75ba",
   "metadata": {},
   "outputs": [],
   "source": [
    "age =12\n",
    "print(age)"
   ]
  },
  {
   "cell_type": "code",
   "execution_count": null,
   "id": "b49f5649-426b-4d53-8476-d5effc3856bd",
   "metadata": {},
   "outputs": [],
   "source": [
    "x = 6\n",
    "y = x * 7\n",
    "print(y)"
   ]
  },
  {
   "cell_type": "code",
   "execution_count": null,
   "id": "1a2684b3-5a73-44a3-9937-5a217be6e9ae",
   "metadata": {},
   "outputs": [],
   "source": [
    "name = 'Adele Joe'\n",
    "print (name)\n"
   ]
  },
  {
   "cell_type": "code",
   "execution_count": null,
   "id": "c4dd5ec2-e9f5-4326-8e1d-b1975413484e",
   "metadata": {},
   "outputs": [],
   "source": [
    "mango = 5\n",
    "apple = 3\n",
    "apple > mango"
   ]
  },
  {
   "cell_type": "code",
   "execution_count": null,
   "id": "84a47fce-09b2-4b82-ae94-d255fa097a1a",
   "metadata": {},
   "outputs": [],
   "source": [
    "mango < apple"
   ]
  },
  {
   "cell_type": "code",
   "execution_count": null,
   "id": "2f965fb5-9ec0-4dcf-af87-c7876efaa9c2",
   "metadata": {},
   "outputs": [],
   "source": []
  }
 ],
 "metadata": {
  "kernelspec": {
   "display_name": "Python 3 (ipykernel)",
   "language": "python",
   "name": "python3"
  },
  "language_info": {
   "codemirror_mode": {
    "name": "ipython",
    "version": 3
   },
   "file_extension": ".py",
   "mimetype": "text/x-python",
   "name": "python",
   "nbconvert_exporter": "python",
   "pygments_lexer": "ipython3",
   "version": "3.11.7"
  }
 },
 "nbformat": 4,
 "nbformat_minor": 5
}
