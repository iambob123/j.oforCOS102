{
 "cells": [
  {
   "cell_type": "code",
   "execution_count": 1,
   "id": "e94b68c2-d96f-41bc-8968-601dc267fa78",
   "metadata": {},
   "outputs": [
    {
     "ename": "SyntaxError",
     "evalue": "invalid syntax (3049437184.py, line 1)",
     "output_type": "error",
     "traceback": [
      "\u001b[1;36m  Cell \u001b[1;32mIn[1], line 1\u001b[1;36m\u001b[0m\n\u001b[1;33m    Start Checkout Process\u001b[0m\n\u001b[1;37m          ^\u001b[0m\n\u001b[1;31mSyntaxError\u001b[0m\u001b[1;31m:\u001b[0m invalid syntax\n"
     ]
    }
   ],
   "source": [
    "Start Checkout Process\n",
    "-----------------------\n",
    "\n",
    "1. Calculate the total cost of items in the cart.\n",
    "\n",
    "2. Display the total cost to the user.\n",
    "\n",
    "3. Prompt the user to select a payment method (e.g., credit card, cash).\n",
    "\n",
    "4. Process the payment based on the selected method:\n",
    "   a. If credit card is selected:\n",
    "      i. Ask for credit card information (number, expiration date, CVV).\n",
    "      ii. Process the payment using a payment gateway.\n",
    "   b. If cash is selected:\n",
    "      i. Ask the user to enter the amount of cash tendered.\n",
    "      ii. Calculate change (if necessary) and provide it to the user.\n",
    "\n",
    "5. Confirm successful payment and finalize the checkout.\n",
    "\n",
    "End Checkout Process\n",
    "-----------------------\n"
   ]
  },
  {
   "cell_type": "code",
   "execution_count": null,
   "id": "17eaf263-33bf-4a4b-acef-099a52efb83f",
   "metadata": {},
   "outputs": [],
   "source": []
  }
 ],
 "metadata": {
  "kernelspec": {
   "display_name": "Python 3 (ipykernel)",
   "language": "python",
   "name": "python3"
  },
  "language_info": {
   "codemirror_mode": {
    "name": "ipython",
    "version": 3
   },
   "file_extension": ".py",
   "mimetype": "text/x-python",
   "name": "python",
   "nbconvert_exporter": "python",
   "pygments_lexer": "ipython3",
   "version": "3.11.7"
  }
 },
 "nbformat": 4,
 "nbformat_minor": 5
}
