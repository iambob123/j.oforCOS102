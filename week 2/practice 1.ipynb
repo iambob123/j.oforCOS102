{
 "cells": [
  {
   "cell_type": "code",
   "execution_count": 1,
   "id": "c0276b82-868c-4d3e-b6de-48b85545f167",
   "metadata": {},
   "outputs": [
    {
     "name": "stdin",
     "output_type": "stream",
     "text": [
      "Enter your state of origin anambra\n"
     ]
    },
    {
     "name": "stdout",
     "output_type": "stream",
     "text": [
      "Your state of origin is  anambra\n",
      "Your first character is  a\n",
      "The characters starting from 3rd to 5th are  amb\n",
      "The string starting from 3rd character is  ambra\n",
      "State of origin two times anambraanambra\n"
     ]
    }
   ],
   "source": [
    "str = input(\"Enter your state of origin\")\n",
    "print(\"Your state of origin is \", str)\n",
    "print(\"Your first character is \", str[0])\n",
    "print(\"The characters starting from 3rd to 5th are \", str[2:5])\n",
    "print(\"The string starting from 3rd character is \", str[2:])\n",
    "print(\"State of origin two times\", str * 2)"
   ]
  },
  {
   "cell_type": "code",
   "execution_count": null,
   "id": "950eb68e-8ad6-4249-952f-ef1607f08052",
   "metadata": {},
   "outputs": [],
   "source": []
  }
 ],
 "metadata": {
  "kernelspec": {
   "display_name": "Python 3 (ipykernel)",
   "language": "python",
   "name": "python3"
  },
  "language_info": {
   "codemirror_mode": {
    "name": "ipython",
    "version": 3
   },
   "file_extension": ".py",
   "mimetype": "text/x-python",
   "name": "python",
   "nbconvert_exporter": "python",
   "pygments_lexer": "ipython3",
   "version": "3.11.7"
  }
 },
 "nbformat": 4,
 "nbformat_minor": 5
}
