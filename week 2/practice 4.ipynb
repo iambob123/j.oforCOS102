{
 "cells": [
  {
   "cell_type": "code",
   "execution_count": 3,
   "id": "ab28b710-940a-41ae-a04c-caab3f157eb5",
   "metadata": {},
   "outputs": [
    {
     "ename": "IndentationError",
     "evalue": "unexpected indent (2459374380.py, line 10)",
     "output_type": "error",
     "traceback": [
      "\u001b[1;36m  Cell \u001b[1;32mIn[3], line 10\u001b[1;36m\u001b[0m\n\u001b[1;33m    print(tuple[3:])\u001b[0m\n\u001b[1;37m    ^\u001b[0m\n\u001b[1;31mIndentationError\u001b[0m\u001b[1;31m:\u001b[0m unexpected indent\n"
     ]
    }
   ],
   "source": [
    "tuple =(\"Ekiti\", 750, 'Oshogbo', 250, \"Akure\", 500)\n",
    "s_tuple = (\"Abeokuta\", 300, \"Ogbomoso\")\n",
    "# Prints the complete tuple\n",
    "print(tuple)\n",
    "# Prints last elements of the tuple\n",
    "print (tuple[-1])\n",
    "#Prints elements of the tuple starting from 2nd till 3rd\n",
    "print(tuple[2:4])\n",
    "# Prints elements of the tuple starting from the 3rd element\n",
    " print(tuple[3:])\n",
    "# prints the contents of the tuple twice\n",
    "print(s_tuple * 3)\n",
    " # prints concatenated tuples\n",
    "print(tuple + s_tuple)"
   ]
  },
  {
   "cell_type": "code",
   "execution_count": null,
   "id": "354f9b22-dc6b-44ac-bf43-e5941584a690",
   "metadata": {},
   "outputs": [],
   "source": []
  }
 ],
 "metadata": {
  "kernelspec": {
   "display_name": "Python 3 (ipykernel)",
   "language": "python",
   "name": "python3"
  },
  "language_info": {
   "codemirror_mode": {
    "name": "ipython",
    "version": 3
   },
   "file_extension": ".py",
   "mimetype": "text/x-python",
   "name": "python",
   "nbconvert_exporter": "python",
   "pygments_lexer": "ipython3",
   "version": "3.11.7"
  }
 },
 "nbformat": 4,
 "nbformat_minor": 5
}
