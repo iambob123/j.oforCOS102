{
 "cells": [
  {
   "cell_type": "code",
   "execution_count": null,
   "id": "f7713313-5a6a-4d87-8ff0-ad41716d0bee",
   "metadata": {},
   "outputs": [],
   "source": [
    "def admission_decision(name, jamb_score, subjects, interview_result):\n",
    "    key_subjects_cs = {'Maths', 'English', 'Physics', 'Chemistry', 'Computer'}\n",
    "    key_subjects_mc = {'Maths', 'English', 'Computer', 'Econs', 'Chemistry'}\n",
    "    admitted = []\n",
    "    not_admitted = []\n",
    "\n",
    "    if jamb_score >= 250 and all(subj in key_subjects_cs for subj in subjects) and interview_result == 'Pass':\n",
    "        admitted.append({'name': name, 'department': 'Computer Science'})\n",
    "    elif jamb_score >= 230 and all(subj in key_subjects_mc for subj in subjects) and interview_result == 'Pass':\n",
    "        admitted.append({'name': name, 'department': 'Mass Communication'})\n",
    "    else:\n",
    "        not_admitted.append(name)\n",
    "\n",
    "    return admitted, not_admitted\n",
    "\n",
    "# Example usage:\n",
    "name = \"John Doe\"\n",
    "jamb_score = 260\n",
    "subjects = ['Maths', 'English', 'Physics', 'Chemistry', 'Computer']\n",
    "interview_result = 'Pass'\n",
    "\n",
    "admitted_students, not_admitted_students = admission_decision(name, jamb_score, subjects, interview_result)\n",
    "\n",
    "print(\"Admitted Students:\", admitted_students)\n",
    "print(\"Not Admitted Students:\", not_admitted_students)\n"
   ]
  }
 ],
 "metadata": {
  "kernelspec": {
   "display_name": "Python 3 (ipykernel)",
   "language": "python",
   "name": "python3"
  },
  "language_info": {
   "codemirror_mode": {
    "name": "ipython",
    "version": 3
   },
   "file_extension": ".py",
   "mimetype": "text/x-python",
   "name": "python",
   "nbconvert_exporter": "python",
   "pygments_lexer": "ipython3",
   "version": "3.11.7"
  }
 },
 "nbformat": 4,
 "nbformat_minor": 5
}
