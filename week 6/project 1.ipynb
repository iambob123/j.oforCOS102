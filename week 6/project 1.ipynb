{
 "cells": [
  {
   "cell_type": "code",
   "execution_count": null,
   "id": "128b7387-4ffb-4476-8e65-910d833852b3",
   "metadata": {},
   "outputs": [],
   "source": [
    "import tkinter as tk\n",
    "from tkinter import messagebox\n",
    "\n",
    "def calculate_delivery_charge():\n",
    "    weight = float(weight_entry.get())\n",
    "    location = location_var.get()\n",
    "    \n",
    "    if location == \"Ibeju Lekki\":\n",
    "        if weight >= 10:\n",
    "            charge = 5000\n",
    "        else:\n",
    "            charge = 3500\n",
    "    elif location == \"Epe\":\n",
    "        if weight >= 10:\n",
    "            charge = 10000\n",
    "        else:\n",
    "            charge = 5000\n",
    "    else:\n",
    "        messagebox.showerror(\"Error\", \"Invalid location\")\n",
    "        return\n",
    "    \n",
    "    messagebox.showinfo(\"Delivery Charge\", f\"You need to pay N{charge} for the delivery.\")\n",
    "\n",
    "# Create the main window\n",
    "root = tk.Tk()\n",
    "root.title(\"Simi Services Delivery Charge Calculator\")\n",
    "\n",
    "# Create and place widgets\n",
    "weight_label = tk.Label(root, text=\"Enter Package Weight (kg):\")\n",
    "weight_label.pack()\n",
    "weight_entry = tk.Entry(root)\n",
    "weight_entry.pack()\n",
    "\n",
    "location_label = tk.Label(root, text=\"Select Delivery Location:\")\n",
    "location_label.pack()\n",
    "locations = [\"Ibeju Lekki\", \"Epe\"]\n",
    "location_var = tk.StringVar(root)\n",
    "location_var.set(locations[0])  # Default location\n",
    "location_option_menu = tk.OptionMenu(root, location_var, *locations)\n",
    "location_option_menu.pack()\n",
    "\n",
    "calculate_button = tk.Button(root, text=\"Calculate Charge\", command=calculate_delivery_charge)\n",
    "calculate_button.pack()\n",
    "\n",
    "# Run the main event loop\n",
    "root.mainloop()\n"
   ]
  },
  {
   "cell_type": "code",
   "execution_count": null,
   "id": "0d50084a-e75f-45e5-83af-87f1f9d783fd",
   "metadata": {},
   "outputs": [],
   "source": []
  },
  {
   "cell_type": "code",
   "execution_count": null,
   "id": "f43f3eb6-0a81-4406-b36c-6545261d8f21",
   "metadata": {},
   "outputs": [],
   "source": []
  }
 ],
 "metadata": {
  "kernelspec": {
   "display_name": "Python 3 (ipykernel)",
   "language": "python",
   "name": "python3"
  },
  "language_info": {
   "codemirror_mode": {
    "name": "ipython",
    "version": 3
   },
   "file_extension": ".py",
   "mimetype": "text/x-python",
   "name": "python",
   "nbconvert_exporter": "python",
   "pygments_lexer": "ipython3",
   "version": "3.11.7"
  }
 },
 "nbformat": 4,
 "nbformat_minor": 5
}
