{
 "cells": [
  {
   "cell_type": "code",
   "execution_count": null,
   "id": "f10b778a-ca52-4aa4-b7ec-c417b8c10996",
   "metadata": {},
   "outputs": [],
   "source": [
    "def printme( str ):\n",
    "    #This is a print function\n",
    "    print(str);\n",
    "    return;\n",
    "printme(\"Im first call to user defined function!\");\n",
    "printme(\"Again second call to the same function\");\n"
   ]
  }
 ],
 "metadata": {
  "kernelspec": {
   "display_name": "Python 3 (ipykernel)",
   "language": "python",
   "name": "python3"
  },
  "language_info": {
   "codemirror_mode": {
    "name": "ipython",
    "version": 3
   },
   "file_extension": ".py",
   "mimetype": "text/x-python",
   "name": "python",
   "nbconvert_exporter": "python",
   "pygments_lexer": "ipython3",
   "version": "3.11.7"
  }
 },
 "nbformat": 4,
 "nbformat_minor": 5
}
