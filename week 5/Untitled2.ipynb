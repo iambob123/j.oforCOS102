{
 "cells": [
  {
   "cell_type": "code",
   "execution_count": null,
   "id": "cfe0b13c-3453-4966-a910-cd66abbcbfc9",
   "metadata": {},
   "outputs": [],
   "source": [
    "def changeme(my list):\n",
    "    #This changes a passed list\n",
    "    mylist = ([1,2,3,4]}\n",
    "    print(\"Values inside the function:\", my list)\n",
    "    return\n",
    "my list = [10,20,30]\n",
    "changeme(mylist)\n",
    "print(\"Values outside the function: \",  my list)\n",
    "    "
   ]
  }
 ],
 "metadata": {
  "kernelspec": {
   "display_name": "Python 3 (ipykernel)",
   "language": "python",
   "name": "python3"
  },
  "language_info": {
   "codemirror_mode": {
    "name": "ipython",
    "version": 3
   },
   "file_extension": ".py",
   "mimetype": "text/x-python",
   "name": "python",
   "nbconvert_exporter": "python",
   "pygments_lexer": "ipython3",
   "version": "3.11.7"
  }
 },
 "nbformat": 4,
 "nbformat_minor": 5
}
