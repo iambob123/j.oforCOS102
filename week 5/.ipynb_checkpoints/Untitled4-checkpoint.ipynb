{
 "cells": [
  {
   "cell_type": "code",
   "execution_count": null,
   "id": "883fd97a-3379-4a52-9d47-4c38c18245a0",
   "metadata": {},
   "outputs": [],
   "source": [
    "def printinfo(name,age);\n",
    "#Test function\n",
    "print(\"Name: \", name);\n",
    "print(\"Age: \", age);\n",
    "return;\n",
    "printinfo( age=50, name=\"miki\" );"
   ]
  }
 ],
 "metadata": {
  "kernelspec": {
   "display_name": "Python 3 (ipykernel)",
   "language": "python",
   "name": "python3"
  },
  "language_info": {
   "codemirror_mode": {
    "name": "ipython",
    "version": 3
   },
   "file_extension": ".py",
   "mimetype": "text/x-python",
   "name": "python",
   "nbconvert_exporter": "python",
   "pygments_lexer": "ipython3",
   "version": "3.11.7"
  }
 },
 "nbformat": 4,
 "nbformat_minor": 5
}
