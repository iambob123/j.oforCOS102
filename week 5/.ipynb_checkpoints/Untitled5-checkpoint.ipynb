{
 "cells": [
  {
   "cell_type": "code",
   "execution_count": null,
   "id": "bfc25065-3feb-4c46-a955-83abbbaa9af7",
   "metadata": {},
   "outputs": [],
   "source": [
    " def printinfo(name,age = 35 ):\n",
    "     #Test function\n",
    "     print(\"Name: \", name);\n",
    "     print(\"Age: \", age);\n",
    "     return;\n",
    "printinfo(age=50, name=\"miki\");\n",
    "printinfo( name=\"miki\" );"
   ]
  }
 ],
 "metadata": {
  "kernelspec": {
   "display_name": "Python 3 (ipykernel)",
   "language": "python",
   "name": "python3"
  },
  "language_info": {
   "codemirror_mode": {
    "name": "ipython",
    "version": 3
   },
   "file_extension": ".py",
   "mimetype": "text/x-python",
   "name": "python",
   "nbconvert_exporter": "python",
   "pygments_lexer": "ipython3",
   "version": "3.11.7"
  }
 },
 "nbformat": 4,
 "nbformat_minor": 5
}
