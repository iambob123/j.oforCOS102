{
 "cells": [
  {
   "cell_type": "code",
   "execution_count": null,
   "id": "eb2a18ef-a426-42fb-8a03-7a78413d602e",
   "metadata": {},
   "outputs": [],
   "source": [
    "def printinfo(arg1, vartuple );\n",
    " #This is test\n",
    "print(\"Output is: \")\n",
    "print(arg1)\n",
    "for var in vartuple:\n",
    "    print(var)\n",
    "    return;\n",
    "printinfo(10);\n",
    "printinfo(70,60,50);\n"
   ]
  }
 ],
 "metadata": {
  "kernelspec": {
   "display_name": "Python 3 (ipykernel)",
   "language": "python",
   "name": "python3"
  },
  "language_info": {
   "codemirror_mode": {
    "name": "ipython",
    "version": 3
   },
   "file_extension": ".py",
   "mimetype": "text/x-python",
   "name": "python",
   "nbconvert_exporter": "python",
   "pygments_lexer": "ipython3",
   "version": "3.11.7"
  }
 },
 "nbformat": 4,
 "nbformat_minor": 5
}
